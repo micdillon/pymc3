{
 "cells": [
  {
   "cell_type": "code",
   "execution_count": 1,
   "metadata": {
    "collapsed": true
   },
   "outputs": [],
   "source": [
    "def prob_heads_given_k(k, p=2./3.):\n",
    "    return (2.**(3.-k) * p) / (2.**(3.-k)*p + 2.**k*(1.-p))"
   ]
  },
  {
   "cell_type": "code",
   "execution_count": 28,
   "metadata": {
    "collapsed": false
   },
   "outputs": [
    {
     "name": "stdout",
     "output_type": "stream",
     "text": [
      "P(H_1|K=0) = 0.5\n",
      "P(H_1|K=1) = 0.2\n",
      "P(H_1|K=2) = 0.0588235\n",
      "P(H_1|K=3) = 0.0153846\n"
     ]
    }
   ],
   "source": [
    "for k in range(4):\n",
    "    print('P(H_1|K=%d) = %g' % (k, prob_heads_given_k(k, p=1./9.)))"
   ]
  },
  {
   "cell_type": "code",
   "execution_count": 3,
   "metadata": {
    "collapsed": true
   },
   "outputs": [],
   "source": [
    "def error_heads_given_k(k, p=2./3.):\n",
    "    return (2.**k * (1.-p)) / (2.**(3.-k)*p + 2.**k*(1.-p))"
   ]
  },
  {
   "cell_type": "code",
   "execution_count": 4,
   "metadata": {
    "collapsed": false
   },
   "outputs": [
    {
     "name": "stdout",
     "output_type": "stream",
     "text": [
      "P(H_1 != h_1|K=0) = 0.0588235\n",
      "P(H_1 != h_1|K=1) = 0.2\n",
      "P(H_1 != h_1|K=2) = 0.5\n",
      "P(H_1 != h_1|K=3) = 0.8\n"
     ]
    }
   ],
   "source": [
    "for k in range(4):\n",
    "    print('P(H_1 != h_1|K=%d) = %g' % (k, error_heads_given_k(k)))"
   ]
  },
  {
   "cell_type": "code",
   "execution_count": 5,
   "metadata": {
    "collapsed": true
   },
   "outputs": [],
   "source": [
    "import numpy as np"
   ]
  },
  {
   "cell_type": "code",
   "execution_count": 6,
   "metadata": {
    "collapsed": false
   },
   "outputs": [
    {
     "name": "stdout",
     "output_type": "stream",
     "text": [
      "[ 0.05882353  0.2         0.5         0.8       ]\n"
     ]
    },
    {
     "data": {
      "text/plain": [
       "1.5588235294117649"
      ]
     },
     "execution_count": 6,
     "metadata": {},
     "output_type": "execute_result"
    }
   ],
   "source": [
    "errs = np.asarray([error_heads_given_k(k) for k in range(4)])\n",
    "print(errs)\n",
    "np.sum(errs)"
   ]
  },
  {
   "cell_type": "code",
   "execution_count": 25,
   "metadata": {
    "collapsed": false
   },
   "outputs": [
    {
     "name": "stdout",
     "output_type": "stream",
     "text": [
      "C_hat given K=0 is 1\n",
      "C_hat given K=1 is 0\n",
      "C_hat given K=2 is 0\n",
      "C_hat given K=3 is 0\n"
     ]
    }
   ],
   "source": [
    "def estimate(k, p=2./3.):\n",
    "    return k <= np.log2(p/(1.-p))/2. + 3./2.\n",
    "\n",
    "for k in range(4):\n",
    "    print('C_hat given K=%d is %d' % (k, estimate(k, p=1/4.)))"
   ]
  },
  {
   "cell_type": "code",
   "execution_count": 9,
   "metadata": {
    "collapsed": false
   },
   "outputs": [
    {
     "name": "stdout",
     "output_type": "stream",
     "text": [
      "prob_k(0) = 0.209877\n",
      "prob_k(1) = 0.37037\n",
      "prob_k(2) = 0.296296\n",
      "prob_k(3) = 0.123457\n"
     ]
    }
   ],
   "source": [
    "from scipy.special import comb\n",
    "def prob_k(k, p=2./3.):\n",
    "    p_1 = p * comb(3,k) * (1./3)**k * (2./3.)**(3-k)\n",
    "    p_2 = (1.-p) * comb(3,k) * (2./3)**k * (1./3.)**(3-k)\n",
    "    return p_1 + p_2\n",
    "\n",
    "for k in range(4):\n",
    "    print('prob_k(%d) = %g' % (k, prob_k(k)))"
   ]
  },
  {
   "cell_type": "code",
   "execution_count": 14,
   "metadata": {
    "collapsed": false,
    "scrolled": true
   },
   "outputs": [
    {
     "data": {
      "text/plain": [
       "0.7407407407407407"
      ]
     },
     "execution_count": 14,
     "metadata": {},
     "output_type": "execute_result"
    }
   ],
   "source": [
    "err = [prob_heads_given_k(k) * prob_k(k) for k in range(3)]\n",
    "np.sum(err) + error_heads_given_k(3) * prob_k(3)"
   ]
  },
  {
   "cell_type": "code",
   "execution_count": null,
   "metadata": {
    "collapsed": true
   },
   "outputs": [],
   "source": []
  }
 ],
 "metadata": {
  "kernelspec": {
   "display_name": "Python 3",
   "language": "python",
   "name": "python3"
  },
  "language_info": {
   "codemirror_mode": {
    "name": "ipython",
    "version": 3
   },
   "file_extension": ".py",
   "mimetype": "text/x-python",
   "name": "python",
   "nbconvert_exporter": "python",
   "pygments_lexer": "ipython3",
   "version": "3.5.1"
  }
 },
 "nbformat": 4,
 "nbformat_minor": 0
}
