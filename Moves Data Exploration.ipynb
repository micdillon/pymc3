{
 "cells": [
  {
   "cell_type": "code",
   "execution_count": 1,
   "metadata": {
    "collapsed": true
   },
   "outputs": [],
   "source": [
    "import numpy as np\n",
    "import matplotlib.pyplot as plt\n",
    "import pandas as pd\n",
    "\n",
    "np.random.seed(123)\n",
    "\n",
    "%matplotlib inline"
   ]
  },
  {
   "cell_type": "code",
   "execution_count": 5,
   "metadata": {
    "collapsed": false
   },
   "outputs": [
    {
     "name": "stdout",
     "output_type": "stream",
     "text": [
      "data/moves_export/csv/full/activities.csv\n"
     ]
    }
   ],
   "source": [
    "%%bash\n",
    "ls data/moves_export/csv/full/activities.csv"
   ]
  },
  {
   "cell_type": "code",
   "execution_count": 9,
   "metadata": {
    "collapsed": false
   },
   "outputs": [],
   "source": [
    "df = pd.read_csv('data/moves_export/csv/full/summary.csv')"
   ]
  },
  {
   "cell_type": "code",
   "execution_count": 21,
   "metadata": {
    "collapsed": false
   },
   "outputs": [
    {
     "data": {
      "text/plain": [
       "<matplotlib.axes._subplots.AxesSubplot at 0x1122dff60>"
      ]
     },
     "execution_count": 21,
     "metadata": {},
     "output_type": "execute_result"
    },
    {
     "data": {
      "image/png": "[encoded data removed]",
      "text/plain": [
       "<matplotlib.figure.Figure at 0x109070ef0>"
      ]
     },
     "metadata": {},
     "output_type": "display_data"
    }
   ],
   "source": [
    "df = df[df['Activity'] == 'walking']\n",
    "df['Steps'].plot.hist(alpha=0.8, bins=15)"
   ]
  },
  {
   "cell_type": "code",
   "execution_count": 55,
   "metadata": {
    "collapsed": false
   },
   "outputs": [
    {
     "data": {
      "text/plain": [
       "<matplotlib.axes._subplots.AxesSubplot at 0x115be12b0>"
      ]
     },
     "execution_count": 55,
     "metadata": {},
     "output_type": "execute_result"
    },
    {
     "data": {
      "image/png": "[encoded data removed]",
      "text/plain": [
       "<matplotlib.figure.Figure at 0x1168105f8>"
      ]
     },
     "metadata": {},
     "output_type": "display_data"
    }
   ],
   "source": [
    "from scipy.stats import truncnorm\n",
    "fig, ax = plt.subplots(1,1)\n",
    "a, b = -3000, 20000\n",
    "mu, var = 4000, 3000\n",
    "x = np.linspace(0, 20000, 100)\n",
    "ax.plot(x, truncnorm.pdf(x, a, b, mu, var)*10000 * 65,\n",
    "        'r-', lw=5, alpha=0.6,\n",
    "        label='truncnorm pdf')\n",
    "df['Steps'].plot.hist(alpha=0.5, bins=15)"
   ]
  },
  {
   "cell_type": "markdown",
   "metadata": {},
   "source": [
    "Above is the histogram of steps I've taken per day in approximately the last year. I would like to use Bayesian estimation to find the mean and variance of this distribution.\n",
    "\n",
    "$$ X \\sim Norm(\\mu_X, \\sigma_X) $$\n",
    "$$ \\mu_X \\sim Norm(4000, 100) $$\n",
    "$$ \\sigma_X \\sim Norm(3500, 100) $$\n",
    "\n",
    "$$ P(\\mu_X | D) $$"
   ]
  },
  {
   "cell_type": "code",
   "execution_count": 58,
   "metadata": {
    "collapsed": false
   },
   "outputs": [
    {
     "name": "stdout",
     "output_type": "stream",
     "text": [
      "4121\n",
      "5063\n",
      "5149\n",
      "4474\n",
      "6397\n"
     ]
    }
   ],
   "source": [
    "for d in df['Steps'][:5]:\n",
    "    truncnorm.pdf(d, a, b, mu, var)"
   ]
  },
  {
   "cell_type": "code",
   "execution_count": null,
   "metadata": {
    "collapsed": true
   },
   "outputs": [],
   "source": []
  }
 ],
 "metadata": {
  "kernelspec": {
   "display_name": "Python 3",
   "language": "python",
   "name": "python3"
  },
  "language_info": {
   "codemirror_mode": {
    "name": "ipython",
    "version": 3
   },
   "file_extension": ".py",
   "mimetype": "text/x-python",
   "name": "python",
   "nbconvert_exporter": "python",
   "pygments_lexer": "ipython3",
   "version": "3.5.1"
  }
 },
 "nbformat": 4,
 "nbformat_minor": 0
}
